{
 "cells": [
  {
   "cell_type": "code",
   "execution_count": 261,
   "metadata": {},
   "outputs": [],
   "source": [
    "df=spark.read.csv(\"/home/ubuntu/Downloads/Take.csv\", header=True, sep=\";\")"
   ]
  },
  {
   "cell_type": "code",
   "execution_count": 262,
   "metadata": {
    "scrolled": true
   },
   "outputs": [],
   "source": [
    "from pyspark.sql import functions as F\n",
    "import matplotlib.pyplot as plt\n",
    "import pandas"
   ]
  },
  {
   "cell_type": "code",
   "execution_count": 263,
   "metadata": {
    "scrolled": true
   },
   "outputs": [
    {
     "name": "stdout",
     "output_type": "stream",
     "text": [
      "+--------------------+--------------------+--------------------+--------------------+--------------------+-----------------+\n",
      "| MessageSequentialID|         StorageDate|        FromIdentity|          ToIdentity|             Message|MessageOriginator|\n",
      "+--------------------+--------------------+--------------------+--------------------+--------------------+-----------------+\n",
      "|               73719|2018-02-02 13:51:...|1454345038013757@...|carnabelo@msging.net|             comecar|             User|\n",
      "|               73722|2018-02-02 13:52:...|carnabelo@msging.net|1454345038013757@...|E ai Alan Pierre,...|              Bot|\n",
      "|               73723|2018-02-02 13:52:...|carnabelo@msging.net|1454345038013757@...|Se você não sabe ...|              Bot|\n",
      "|               73726|2018-02-02 13:52:...|1454345038013757@...|carnabelo@msging.net|               beber|             User|\n",
      "|               73729|2018-02-02 13:52:...|carnabelo@msging.net|1454345038013757@...|🎵 Você pensa que...|             null|\n",
      "|Cachaça não é águ...|                null|                null|                null|                null|             null|\n",
      "|                ;Bot|                null|                null|                null|                null|             null|\n",
      "|               73730|2018-02-02 13:52:...|carnabelo@msging.net|1454345038013757@...|Beber pode? Claro...|              Bot|\n",
      "|               73732|2018-02-02 13:52:...|carnabelo@msging.net|1454345038013757@...|Tenho essas opçõe...|             null|\n",
      "|                ;Bot|                null|                null|                null|                null|             null|\n",
      "|               73735|2018-02-02 13:52:...|1454345038013757@...|carnabelo@msging.net|          MenuAgenda|             User|\n",
      "|               73738|2018-02-02 13:52:...|1454345038013757@...|carnabelo@msging.net|          10/02/2018|             User|\n",
      "|               73740|2018-02-02 13:52:...|carnabelo@msging.net|1454345038013757@...|Dê uma olhada em ...|              Bot|\n",
      "|               73795|2018-02-02 13:52:...|carnabelo@msging.net|1454345038013757@...|Olha os blocos qu...|              Bot|\n",
      "|               73802|2018-02-02 13:53:...|1454345038013757@...|carnabelo@msging.net|     qual o seu nome|             User|\n",
      "|               73804|2018-02-02 13:53:...|carnabelo@msging.net|1454345038013757@...|Meu nome é Bonifá...|              Bot|\n",
      "|               73806|2018-02-02 13:53:...|carnabelo@msging.net|1454345038013757@...|Mas pra vc eu sou...|              Bot|\n",
      "|               73810|2018-02-02 13:53:...|1454345038013757@...|carnabelo@msging.net|          quero sexo|             User|\n",
      "|               73812|2018-02-02 13:53:...|carnabelo@msging.net|1454345038013757@...|Vai alongar a fol...|             null|\n",
      "|                ;Bot|                null|                null|                null|                null|             null|\n",
      "+--------------------+--------------------+--------------------+--------------------+--------------------+-----------------+\n",
      "only showing top 20 rows\n",
      "\n"
     ]
    }
   ],
   "source": [
    "df.show()"
   ]
  },
  {
   "cell_type": "code",
   "execution_count": 264,
   "metadata": {},
   "outputs": [
    {
     "data": {
      "text/plain": [
       "40372"
      ]
     },
     "execution_count": 264,
     "metadata": {},
     "output_type": "execute_result"
    }
   ],
   "source": [
    "df.count()"
   ]
  },
  {
   "cell_type": "code",
   "execution_count": 265,
   "metadata": {
    "scrolled": true
   },
   "outputs": [
    {
     "name": "stdout",
     "output_type": "stream",
     "text": [
      "root\n",
      " |-- MessageSequentialID: string (nullable = true)\n",
      " |-- StorageDate: string (nullable = true)\n",
      " |-- FromIdentity: string (nullable = true)\n",
      " |-- ToIdentity: string (nullable = true)\n",
      " |-- Message: string (nullable = true)\n",
      " |-- MessageOriginator: string (nullable = true)\n",
      "\n"
     ]
    }
   ],
   "source": [
    "df.printSchema()"
   ]
  },
  {
   "cell_type": "code",
   "execution_count": 274,
   "metadata": {
    "scrolled": true
   },
   "outputs": [
    {
     "data": {
      "text/html": [
       "<div>\n",
       "<style scoped>\n",
       "    .dataframe tbody tr th:only-of-type {\n",
       "        vertical-align: middle;\n",
       "    }\n",
       "\n",
       "    .dataframe tbody tr th {\n",
       "        vertical-align: top;\n",
       "    }\n",
       "\n",
       "    .dataframe thead th {\n",
       "        text-align: right;\n",
       "    }\n",
       "</style>\n",
       "<table border=\"1\" class=\"dataframe\">\n",
       "  <thead>\n",
       "    <tr style=\"text-align: right;\">\n",
       "      <th></th>\n",
       "      <th>Message</th>\n",
       "      <th>MessageOriginator</th>\n",
       "      <th>Total</th>\n",
       "    </tr>\n",
       "  </thead>\n",
       "  <tbody>\n",
       "    <tr>\n",
       "      <th>0</th>\n",
       "      <td>Olha os blocos que encontrei para vc 👀</td>\n",
       "      <td>Bot</td>\n",
       "      <td>1358</td>\n",
       "    </tr>\n",
       "    <tr>\n",
       "      <th>1</th>\n",
       "      <td>A cidade toda vai bombar!</td>\n",
       "      <td>Bot</td>\n",
       "      <td>1351</td>\n",
       "    </tr>\n",
       "    <tr>\n",
       "      <th>2</th>\n",
       "      <td>Em qual bloco vc vai? 👇</td>\n",
       "      <td>Bot</td>\n",
       "      <td>1136</td>\n",
       "    </tr>\n",
       "    <tr>\n",
       "      <th>3</th>\n",
       "      <td>Se você não sabe onde ir, posso te ajudar com ...</td>\n",
       "      <td>Bot</td>\n",
       "      <td>1100</td>\n",
       "    </tr>\n",
       "    <tr>\n",
       "      <th>4</th>\n",
       "      <td>Tenho essas opções para te ajudar a encontrar ...</td>\n",
       "      <td>None</td>\n",
       "      <td>1024</td>\n",
       "    </tr>\n",
       "  </tbody>\n",
       "</table>\n",
       "</div>"
      ],
      "text/plain": [
       "                                             Message MessageOriginator  Total\n",
       "0            Olha os blocos que encontrei para vc 👀                Bot   1358\n",
       "1                          A cidade toda vai bombar!               Bot   1351\n",
       "2                            Em qual bloco vc vai? 👇               Bot   1136\n",
       "3  Se você não sabe onde ir, posso te ajudar com ...               Bot   1100\n",
       "4  Tenho essas opções para te ajudar a encontrar ...              None   1024"
      ]
     },
     "execution_count": 274,
     "metadata": {},
     "output_type": "execute_result"
    }
   ],
   "source": [
    "df.groupBy('Message','MessageOriginator') \\\n",
    "    .agg(F.count('Message').alias('Total')) \\\n",
    "    .orderBy('Total', ascending=False) \\\n",
    "    .toPandas().head(5)"
   ]
  },
  {
   "cell_type": "code",
   "execution_count": 273,
   "metadata": {
    "scrolled": true
   },
   "outputs": [
    {
     "data": {
      "text/plain": [
       "17713"
      ]
     },
     "execution_count": 273,
     "metadata": {},
     "output_type": "execute_result"
    }
   ],
   "source": [
    "df1 = df.filter((df['MessageOriginator'] == 'Bot'))\n",
    "\n",
    "df1.count()"
   ]
  },
  {
   "cell_type": "code",
   "execution_count": 283,
   "metadata": {
    "scrolled": false
   },
   "outputs": [
    {
     "data": {
      "text/html": [
       "<div>\n",
       "<style scoped>\n",
       "    .dataframe tbody tr th:only-of-type {\n",
       "        vertical-align: middle;\n",
       "    }\n",
       "\n",
       "    .dataframe tbody tr th {\n",
       "        vertical-align: top;\n",
       "    }\n",
       "\n",
       "    .dataframe thead th {\n",
       "        text-align: right;\n",
       "    }\n",
       "</style>\n",
       "<table border=\"1\" class=\"dataframe\">\n",
       "  <thead>\n",
       "    <tr style=\"text-align: right;\">\n",
       "      <th></th>\n",
       "      <th>Message</th>\n",
       "      <th>MessageOriginator</th>\n",
       "      <th>Total</th>\n",
       "    </tr>\n",
       "  </thead>\n",
       "  <tbody>\n",
       "    <tr>\n",
       "      <th>0</th>\n",
       "      <td>MenuHoje</td>\n",
       "      <td>User</td>\n",
       "      <td>892</td>\n",
       "    </tr>\n",
       "    <tr>\n",
       "      <th>1</th>\n",
       "      <td>MenuAgenda</td>\n",
       "      <td>User</td>\n",
       "      <td>716</td>\n",
       "    </tr>\n",
       "    <tr>\n",
       "      <th>2</th>\n",
       "      <td>Começar</td>\n",
       "      <td>User</td>\n",
       "      <td>548</td>\n",
       "    </tr>\n",
       "    <tr>\n",
       "      <th>3</th>\n",
       "      <td>10/02/2018</td>\n",
       "      <td>User</td>\n",
       "      <td>354</td>\n",
       "    </tr>\n",
       "    <tr>\n",
       "      <th>4</th>\n",
       "      <td>dancar</td>\n",
       "      <td>User</td>\n",
       "      <td>340</td>\n",
       "    </tr>\n",
       "  </tbody>\n",
       "</table>\n",
       "</div>"
      ],
      "text/plain": [
       "      Message MessageOriginator  Total\n",
       "0    MenuHoje              User    892\n",
       "1  MenuAgenda              User    716\n",
       "2     Começar              User    548\n",
       "3  10/02/2018              User    354\n",
       "4      dancar              User    340"
      ]
     },
     "execution_count": 283,
     "metadata": {},
     "output_type": "execute_result"
    }
   ],
   "source": [
    "df2 = df.filter((df['MessageOriginator'] == 'User'))\n",
    "df3 = df2.filter((df['Message'] != '📅 Agenda'))\n",
    "\n",
    "df3.groupBy('Message','MessageOriginator') \\\n",
    "    .agg(F.count('Message').alias('Total')) \\\n",
    "    .orderBy('Total', ascending=False) \\\n",
    "    .toPandas().head(5)"
   ]
  }
 ],
 "metadata": {
  "kernelspec": {
   "display_name": "Python 3",
   "language": "python",
   "name": "python3"
  },
  "language_info": {
   "codemirror_mode": {
    "name": "ipython",
    "version": 3
   },
   "file_extension": ".py",
   "mimetype": "text/x-python",
   "name": "python",
   "nbconvert_exporter": "python",
   "pygments_lexer": "ipython3",
   "version": "3.6.9"
  }
 },
 "nbformat": 4,
 "nbformat_minor": 4
}
