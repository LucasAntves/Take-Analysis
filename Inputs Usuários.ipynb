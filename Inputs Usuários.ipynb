{
 "cells": [
  {
   "cell_type": "code",
   "execution_count": 360,
   "metadata": {},
   "outputs": [],
   "source": [
    "df=spark.read.csv(\"/home/ubuntu/Downloads/Take1.csv\", header=True, sep=\";\")"
   ]
  },
  {
   "cell_type": "code",
   "execution_count": 361,
   "metadata": {},
   "outputs": [
    {
     "name": "stdout",
     "output_type": "stream",
     "text": [
      "root\n",
      " |-- EventTrackSequentialID: string (nullable = true)\n",
      " |-- OwnerIdentity: string (nullable = true)\n",
      " |-- StorageDate: string (nullable = true)\n",
      " |-- Category: string (nullable = true)\n",
      " |-- Action: string (nullable = true)\n",
      "\n"
     ]
    }
   ],
   "source": [
    "df.printSchema()"
   ]
  },
  {
   "cell_type": "code",
   "execution_count": 362,
   "metadata": {
    "scrolled": true
   },
   "outputs": [
    {
     "name": "stdout",
     "output_type": "stream",
     "text": [
      "+----------------------+--------------------+--------------------+-----------------+--------------------+\n",
      "|EventTrackSequentialID|       OwnerIdentity|         StorageDate|         Category|              Action|\n",
      "+----------------------+--------------------+--------------------+-----------------+--------------------+\n",
      "|                   100|carnabelo@msging.net|2018-02-02 13:51:...|             Flow|         Boas vindas|\n",
      "|                   101|carnabelo@msging.net|2018-02-02 13:52:...|             Flow|    Objetivo - Beber|\n",
      "|                   102|carnabelo@msging.net|2018-02-02 13:52:...|         Objetivo|               Beber|\n",
      "|                   103|carnabelo@msging.net|2018-02-02 13:52:...|             Flow|               Intro|\n",
      "|                   104|carnabelo@msging.net|2018-02-02 13:52:...|             Flow|                Menu|\n",
      "|                   105|carnabelo@msging.net|2018-02-02 13:52:...|             Flow|     Selecionar data|\n",
      "|                   106|carnabelo@msging.net|2018-02-02 13:52:...|   Pesquisa - Dia|          10/02/2018|\n",
      "|                   107|carnabelo@msging.net|2018-02-02 13:52:...|             Flow|API -  Carrossel ...|\n",
      "|                   108|carnabelo@msging.net|2018-02-02 13:52:...|             Flow|API  - Carrossel ...|\n",
      "|                   109|carnabelo@msging.net|2018-02-02 13:52:...|Pesquisa - Bairro|           São Pedro|\n",
      "|                   110|carnabelo@msging.net|2018-02-02 13:53:...|             Flow|Respostas para ca...|\n",
      "|                   111|carnabelo@msging.net|2018-02-02 13:53:...|             Flow|Fallback - Nome d...|\n",
      "|                   112|carnabelo@msging.net|2018-02-02 13:53:...|             Flow|      Fallback  - IA|\n",
      "|                   113|carnabelo@msging.net|2018-02-02 13:53:...|             Flow|    IA - QualSeuNome|\n",
      "|                   114|carnabelo@msging.net|2018-02-02 13:53:...|             Flow|Fallback - Nome d...|\n",
      "|                   115|carnabelo@msging.net|2018-02-02 13:53:...|             Flow|      Fallback  - IA|\n",
      "|                   116|carnabelo@msging.net|2018-02-02 13:53:...|             Flow|          IA - Quero|\n",
      "|                   117|carnabelo@msging.net|2018-02-02 13:53:...|             Flow|IA - Quero - Dive...|\n",
      "|                   118|carnabelo@msging.net|2018-02-02 14:01:...|             Flow|Fallback - Nome d...|\n",
      "|                   119|carnabelo@msging.net|2018-02-02 14:01:...|             Flow|      Fallback  - IA|\n",
      "+----------------------+--------------------+--------------------+-----------------+--------------------+\n",
      "only showing top 20 rows\n",
      "\n"
     ]
    }
   ],
   "source": [
    "df.show()"
   ]
  },
  {
   "cell_type": "code",
   "execution_count": 363,
   "metadata": {},
   "outputs": [],
   "source": [
    "from pyspark.sql import functions as F\n",
    "from pyspark.sql.types import *\n",
    "import matplotlib.pyplot as plt\n",
    "import pandas"
   ]
  },
  {
   "cell_type": "code",
   "execution_count": 364,
   "metadata": {},
   "outputs": [
    {
     "data": {
      "text/html": [
       "<div>\n",
       "<style scoped>\n",
       "    .dataframe tbody tr th:only-of-type {\n",
       "        vertical-align: middle;\n",
       "    }\n",
       "\n",
       "    .dataframe tbody tr th {\n",
       "        vertical-align: top;\n",
       "    }\n",
       "\n",
       "    .dataframe thead th {\n",
       "        text-align: right;\n",
       "    }\n",
       "</style>\n",
       "<table border=\"1\" class=\"dataframe\">\n",
       "  <thead>\n",
       "    <tr style=\"text-align: right;\">\n",
       "      <th></th>\n",
       "      <th>Action</th>\n",
       "      <th>Category</th>\n",
       "      <th>Total</th>\n",
       "    </tr>\n",
       "  </thead>\n",
       "  <tbody>\n",
       "    <tr>\n",
       "      <th>0</th>\n",
       "      <td>Respostas para carrossel</td>\n",
       "      <td>Flow</td>\n",
       "      <td>4369</td>\n",
       "    </tr>\n",
       "    <tr>\n",
       "      <th>1</th>\n",
       "      <td>API  - Carrossel blocos  - Agenda</td>\n",
       "      <td>Flow</td>\n",
       "      <td>2498</td>\n",
       "    </tr>\n",
       "    <tr>\n",
       "      <th>2</th>\n",
       "      <td>Fallback - Diversos</td>\n",
       "      <td>Flow</td>\n",
       "      <td>1967</td>\n",
       "    </tr>\n",
       "    <tr>\n",
       "      <th>3</th>\n",
       "      <td>Fallback  - IA</td>\n",
       "      <td>Flow</td>\n",
       "      <td>1936</td>\n",
       "    </tr>\n",
       "    <tr>\n",
       "      <th>4</th>\n",
       "      <td>Selecionar data</td>\n",
       "      <td>Flow</td>\n",
       "      <td>1918</td>\n",
       "    </tr>\n",
       "    <tr>\n",
       "      <th>5</th>\n",
       "      <td>Fallback - Musica</td>\n",
       "      <td>Flow</td>\n",
       "      <td>1907</td>\n",
       "    </tr>\n",
       "    <tr>\n",
       "      <th>6</th>\n",
       "      <td>API - Buscar info do bloco</td>\n",
       "      <td>Flow</td>\n",
       "      <td>1848</td>\n",
       "    </tr>\n",
       "    <tr>\n",
       "      <th>7</th>\n",
       "      <td>Menu</td>\n",
       "      <td>Flow</td>\n",
       "      <td>1543</td>\n",
       "    </tr>\n",
       "    <tr>\n",
       "      <th>8</th>\n",
       "      <td>API -  Carrossel - Bairro</td>\n",
       "      <td>Flow</td>\n",
       "      <td>1460</td>\n",
       "    </tr>\n",
       "    <tr>\n",
       "      <th>9</th>\n",
       "      <td>Fallback - Nome de Bloco</td>\n",
       "      <td>Flow</td>\n",
       "      <td>1352</td>\n",
       "    </tr>\n",
       "    <tr>\n",
       "      <th>10</th>\n",
       "      <td>API - Consultar blocos hoje</td>\n",
       "      <td>Flow</td>\n",
       "      <td>1302</td>\n",
       "    </tr>\n",
       "    <tr>\n",
       "      <th>11</th>\n",
       "      <td>Verificar - Horario bloco</td>\n",
       "      <td>Flow</td>\n",
       "      <td>1095</td>\n",
       "    </tr>\n",
       "    <tr>\n",
       "      <th>12</th>\n",
       "      <td>Criar lista de distribuicao</td>\n",
       "      <td>Flow</td>\n",
       "      <td>1095</td>\n",
       "    </tr>\n",
       "    <tr>\n",
       "      <th>13</th>\n",
       "      <td>API - Salvar - Bloco</td>\n",
       "      <td>Flow</td>\n",
       "      <td>1095</td>\n",
       "    </tr>\n",
       "    <tr>\n",
       "      <th>14</th>\n",
       "      <td>Boas vindas</td>\n",
       "      <td>Flow</td>\n",
       "      <td>1091</td>\n",
       "    </tr>\n",
       "    <tr>\n",
       "      <th>15</th>\n",
       "      <td>API - Consultar proximos blocos</td>\n",
       "      <td>Flow</td>\n",
       "      <td>1063</td>\n",
       "    </tr>\n",
       "    <tr>\n",
       "      <th>16</th>\n",
       "      <td>Intro</td>\n",
       "      <td>Flow</td>\n",
       "      <td>1047</td>\n",
       "    </tr>\n",
       "    <tr>\n",
       "      <th>17</th>\n",
       "      <td>API - Como Chegar</td>\n",
       "      <td>Flow</td>\n",
       "      <td>945</td>\n",
       "    </tr>\n",
       "    <tr>\n",
       "      <th>18</th>\n",
       "      <td>API  - Carrossel blocos -  Hoje</td>\n",
       "      <td>Flow</td>\n",
       "      <td>821</td>\n",
       "    </tr>\n",
       "    <tr>\n",
       "      <th>19</th>\n",
       "      <td>Intro - O que tem hoje</td>\n",
       "      <td>Flow</td>\n",
       "      <td>821</td>\n",
       "    </tr>\n",
       "  </tbody>\n",
       "</table>\n",
       "</div>"
      ],
      "text/plain": [
       "                               Action Category  Total\n",
       "0            Respostas para carrossel     Flow   4369\n",
       "1   API  - Carrossel blocos  - Agenda     Flow   2498\n",
       "2                 Fallback - Diversos     Flow   1967\n",
       "3                      Fallback  - IA     Flow   1936\n",
       "4                     Selecionar data     Flow   1918\n",
       "5                   Fallback - Musica     Flow   1907\n",
       "6          API - Buscar info do bloco     Flow   1848\n",
       "7                                Menu     Flow   1543\n",
       "8           API -  Carrossel - Bairro     Flow   1460\n",
       "9            Fallback - Nome de Bloco     Flow   1352\n",
       "10        API - Consultar blocos hoje     Flow   1302\n",
       "11          Verificar - Horario bloco     Flow   1095\n",
       "12        Criar lista de distribuicao     Flow   1095\n",
       "13               API - Salvar - Bloco     Flow   1095\n",
       "14                        Boas vindas     Flow   1091\n",
       "15    API - Consultar proximos blocos     Flow   1063\n",
       "16                              Intro     Flow   1047\n",
       "17                  API - Como Chegar     Flow    945\n",
       "18    API  - Carrossel blocos -  Hoje     Flow    821\n",
       "19             Intro - O que tem hoje     Flow    821"
      ]
     },
     "execution_count": 364,
     "metadata": {},
     "output_type": "execute_result"
    }
   ],
   "source": [
    "df.groupBy('Action','Category') \\\n",
    "    .agg(F.count('Action').alias('Total')) \\\n",
    "    .orderBy('Total', ascending=False) \\\n",
    "    .toPandas().head(20)"
   ]
  },
  {
   "cell_type": "code",
   "execution_count": 365,
   "metadata": {
    "scrolled": true
   },
   "outputs": [],
   "source": [
    "#Visto que o top 20 do dataframe acima aponta apenas categoria 'flow', decidi filtrar categoria diferente de flow.\n",
    "df_take1 = df.filter((df['Category'] != 'Flow'))"
   ]
  },
  {
   "cell_type": "code",
   "execution_count": 366,
   "metadata": {},
   "outputs": [
    {
     "data": {
      "text/html": [
       "<div>\n",
       "<style scoped>\n",
       "    .dataframe tbody tr th:only-of-type {\n",
       "        vertical-align: middle;\n",
       "    }\n",
       "\n",
       "    .dataframe tbody tr th {\n",
       "        vertical-align: top;\n",
       "    }\n",
       "\n",
       "    .dataframe thead th {\n",
       "        text-align: right;\n",
       "    }\n",
       "</style>\n",
       "<table border=\"1\" class=\"dataframe\">\n",
       "  <thead>\n",
       "    <tr style=\"text-align: right;\">\n",
       "      <th></th>\n",
       "      <th>Action</th>\n",
       "      <th>Category</th>\n",
       "      <th>Total</th>\n",
       "    </tr>\n",
       "  </thead>\n",
       "  <tbody>\n",
       "    <tr>\n",
       "      <th>0</th>\n",
       "      <td>Centro</td>\n",
       "      <td>Pesquisa - Bairro</td>\n",
       "      <td>657</td>\n",
       "    </tr>\n",
       "    <tr>\n",
       "      <th>1</th>\n",
       "      <td>Floresta</td>\n",
       "      <td>Pesquisa - Bairro</td>\n",
       "      <td>362</td>\n",
       "    </tr>\n",
       "    <tr>\n",
       "      <th>2</th>\n",
       "      <td>10/02/2018</td>\n",
       "      <td>Pesquisa - Dia</td>\n",
       "      <td>351</td>\n",
       "    </tr>\n",
       "    <tr>\n",
       "      <th>3</th>\n",
       "      <td>Funcionários</td>\n",
       "      <td>Pesquisa - Bairro</td>\n",
       "      <td>348</td>\n",
       "    </tr>\n",
       "    <tr>\n",
       "      <th>4</th>\n",
       "      <td>Dancar</td>\n",
       "      <td>Objetivo</td>\n",
       "      <td>335</td>\n",
       "    </tr>\n",
       "    <tr>\n",
       "      <th>5</th>\n",
       "      <td>11/02/2018</td>\n",
       "      <td>Pesquisa - Dia</td>\n",
       "      <td>302</td>\n",
       "    </tr>\n",
       "    <tr>\n",
       "      <th>6</th>\n",
       "      <td>Santa Tereza</td>\n",
       "      <td>Pesquisa - Bairro</td>\n",
       "      <td>267</td>\n",
       "    </tr>\n",
       "    <tr>\n",
       "      <th>7</th>\n",
       "      <td>12/02/2018</td>\n",
       "      <td>Pesquisa - Dia</td>\n",
       "      <td>252</td>\n",
       "    </tr>\n",
       "    <tr>\n",
       "      <th>8</th>\n",
       "      <td>Tudo</td>\n",
       "      <td>Objetivo</td>\n",
       "      <td>236</td>\n",
       "    </tr>\n",
       "    <tr>\n",
       "      <th>9</th>\n",
       "      <td>13/02/2018</td>\n",
       "      <td>Pesquisa - Dia</td>\n",
       "      <td>217</td>\n",
       "    </tr>\n",
       "    <tr>\n",
       "      <th>10</th>\n",
       "      <td>broad-5 Amei</td>\n",
       "      <td>broad-Pesquisa_Satisfacao</td>\n",
       "      <td>179</td>\n",
       "    </tr>\n",
       "    <tr>\n",
       "      <th>11</th>\n",
       "      <td>09/02/2018</td>\n",
       "      <td>Pesquisa - Dia</td>\n",
       "      <td>165</td>\n",
       "    </tr>\n",
       "    <tr>\n",
       "      <th>12</th>\n",
       "      <td>broad-qro-um-bloco</td>\n",
       "      <td>broad-Fim_Carnaval</td>\n",
       "      <td>158</td>\n",
       "    </tr>\n",
       "    <tr>\n",
       "      <th>13</th>\n",
       "      <td>Savassi</td>\n",
       "      <td>Pesquisa - Bairro</td>\n",
       "      <td>157</td>\n",
       "    </tr>\n",
       "    <tr>\n",
       "      <th>14</th>\n",
       "      <td>ads-bot-carnaval</td>\n",
       "      <td>Ads</td>\n",
       "      <td>143</td>\n",
       "    </tr>\n",
       "    <tr>\n",
       "      <th>15</th>\n",
       "      <td>Beijar</td>\n",
       "      <td>Objetivo</td>\n",
       "      <td>112</td>\n",
       "    </tr>\n",
       "    <tr>\n",
       "      <th>16</th>\n",
       "      <td>Santa Efigênia</td>\n",
       "      <td>Pesquisa - Bairro</td>\n",
       "      <td>104</td>\n",
       "    </tr>\n",
       "    <tr>\n",
       "      <th>17</th>\n",
       "      <td>Beber</td>\n",
       "      <td>Objetivo</td>\n",
       "      <td>102</td>\n",
       "    </tr>\n",
       "    <tr>\n",
       "      <th>18</th>\n",
       "      <td>Pode publicar foto</td>\n",
       "      <td>Envio de foto</td>\n",
       "      <td>102</td>\n",
       "    </tr>\n",
       "    <tr>\n",
       "      <th>19</th>\n",
       "      <td>broad-quero-cupom-cabify</td>\n",
       "      <td>broad-Cupom_Cabify</td>\n",
       "      <td>95</td>\n",
       "    </tr>\n",
       "  </tbody>\n",
       "</table>\n",
       "</div>"
      ],
      "text/plain": [
       "                      Action                   Category  Total\n",
       "0                     Centro          Pesquisa - Bairro    657\n",
       "1                   Floresta          Pesquisa - Bairro    362\n",
       "2                 10/02/2018             Pesquisa - Dia    351\n",
       "3               Funcionários          Pesquisa - Bairro    348\n",
       "4                     Dancar                   Objetivo    335\n",
       "5                 11/02/2018             Pesquisa - Dia    302\n",
       "6               Santa Tereza          Pesquisa - Bairro    267\n",
       "7                 12/02/2018             Pesquisa - Dia    252\n",
       "8                       Tudo                   Objetivo    236\n",
       "9                 13/02/2018             Pesquisa - Dia    217\n",
       "10              broad-5 Amei  broad-Pesquisa_Satisfacao    179\n",
       "11                09/02/2018             Pesquisa - Dia    165\n",
       "12        broad-qro-um-bloco         broad-Fim_Carnaval    158\n",
       "13                   Savassi          Pesquisa - Bairro    157\n",
       "14          ads-bot-carnaval                        Ads    143\n",
       "15                    Beijar                   Objetivo    112\n",
       "16            Santa Efigênia          Pesquisa - Bairro    104\n",
       "17                     Beber                   Objetivo    102\n",
       "18        Pode publicar foto              Envio de foto    102\n",
       "19  broad-quero-cupom-cabify         broad-Cupom_Cabify     95"
      ]
     },
     "execution_count": 366,
     "metadata": {},
     "output_type": "execute_result"
    }
   ],
   "source": [
    "df_take1.groupBy('Action','Category') \\\n",
    "    .agg(F.count('Action').alias('Total')) \\\n",
    "    .orderBy('Total', ascending=False) \\\n",
    "    .toPandas().head(20)"
   ]
  },
  {
   "cell_type": "code",
   "execution_count": 367,
   "metadata": {},
   "outputs": [],
   "source": [
    "df_obj = df.filter((df['Category'] == 'Objetivo'))\n",
    "\n",
    "df_obj1 = df_obj.groupBy('Action','Category') \\\n",
    "    .agg(F.count('Action').alias('Total')) \\\n",
    "    .orderBy('Total', ascending=False) \\\n",
    "    .toPandas()"
   ]
  },
  {
   "cell_type": "code",
   "execution_count": 368,
   "metadata": {},
   "outputs": [
    {
     "data": {
      "image/png": "[encoded data removed]",
      "text/plain": [
       "<Figure size 432x288 with 1 Axes>"
      ]
     },
     "metadata": {
      "needs_background": "light"
     },
     "output_type": "display_data"
    }
   ],
   "source": [
    "plt.title('Objetivo dos usuários', fontsize = 18)\n",
    "plt.bar(df_obj1.Action, df_obj1.Total, label='2x', color= 'darkmagenta')\n",
    "plt.show()"
   ]
  },
  {
   "cell_type": "code",
   "execution_count": 369,
   "metadata": {},
   "outputs": [],
   "source": [
    "df_bairro = df.filter((df['Category'] == 'Pesquisa - Bairro'))\n",
    "\n",
    "df_bairro1 = df_bairro.groupBy('Action','Category') \\\n",
    "    .agg(F.count('Action').alias('Total')) \\\n",
    "    .orderBy('Total', ascending=False) \\\n",
    "    .toPandas().head(4)"
   ]
  },
  {
   "cell_type": "code",
   "execution_count": 370,
   "metadata": {},
   "outputs": [
    {
     "data": {
      "image/png": "[encoded data removed]",
      "text/plain": [
       "<Figure size 432x288 with 1 Axes>"
      ]
     },
     "metadata": {
      "needs_background": "light"
     },
     "output_type": "display_data"
    }
   ],
   "source": [
    "plt.title('Bairros pesquisados', fontsize = 18)\n",
    "plt.bar(df_bairro1.Action, df_bairro1.Total, label='2x', color= 'darkmagenta')\n",
    "plt.show()"
   ]
  },
  {
   "cell_type": "code",
   "execution_count": 371,
   "metadata": {},
   "outputs": [],
   "source": [
    "df_dia = df.filter((df['Category'] == 'Pesquisa - Dia'))\n",
    "\n",
    "df_dia1 = df_dia.groupBy('Action','Category') \\\n",
    "    .agg(F.count('Action').alias('Total')) \\\n",
    "    .orderBy('Total', ascending = False) \\\n",
    "    .toPandas().head(5)"
   ]
  },
  {
   "cell_type": "code",
   "execution_count": 372,
   "metadata": {},
   "outputs": [
    {
     "data": {
      "image/png": "[encoded data removed]",
      "text/plain": [
       "<Figure size 432x288 with 1 Axes>"
      ]
     },
     "metadata": {
      "needs_background": "light"
     },
     "output_type": "display_data"
    }
   ],
   "source": [
    "plt.title('Dias mais pesquisados', fontsize = 18)\n",
    "plt.bar(df_dia1.Action, df_dia1.Total, label='2x', color= 'darkmagenta')\n",
    "plt.show()"
   ]
  },
  {
   "cell_type": "code",
   "execution_count": 373,
   "metadata": {
    "scrolled": true
   },
   "outputs": [],
   "source": [
    "df_satisfacao = df.filter((df['Category'] == 'broad-Pesquisa_Satisfacao'))\n",
    "\n",
    "df_satisfacao1 = df_satisfacao.groupBy('Action','Category') \\\n",
    "    .agg(F.count('Action').alias('Total')) \\\n",
    "    .orderBy('Total', ascending=False) \\\n",
    "    .toPandas()"
   ]
  },
  {
   "cell_type": "code",
   "execution_count": 377,
   "metadata": {},
   "outputs": [
    {
     "data": {
      "image/png": "[encoded data removed]",
      "text/plain": [
       "<Figure size 792x360 with 1 Axes>"
      ]
     },
     "metadata": {
      "needs_background": "light"
     },
     "output_type": "display_data"
    }
   ],
   "source": [
    "plt.figure(figsize=(11,5))\n",
    "plt.title('Pesquisa de satisfação', fontsize = 18)\n",
    "bars = plt.bar(df_satisfacao1.Action, df_satisfacao1.Total, color= 'darkmagenta')\n",
    "plt.show()"
   ]
  },
  {
   "cell_type": "code",
   "execution_count": 375,
   "metadata": {},
   "outputs": [
    {
     "data": {
      "text/html": [
       "<div>\n",
       "<style scoped>\n",
       "    .dataframe tbody tr th:only-of-type {\n",
       "        vertical-align: middle;\n",
       "    }\n",
       "\n",
       "    .dataframe tbody tr th {\n",
       "        vertical-align: top;\n",
       "    }\n",
       "\n",
       "    .dataframe thead th {\n",
       "        text-align: right;\n",
       "    }\n",
       "</style>\n",
       "<table border=\"1\" class=\"dataframe\">\n",
       "  <thead>\n",
       "    <tr style=\"text-align: right;\">\n",
       "      <th></th>\n",
       "      <th>Action</th>\n",
       "      <th>Category</th>\n",
       "      <th>Total</th>\n",
       "    </tr>\n",
       "  </thead>\n",
       "  <tbody>\n",
       "    <tr>\n",
       "      <th>0</th>\n",
       "      <td>Pode publicar foto</td>\n",
       "      <td>Envio de foto</td>\n",
       "      <td>102</td>\n",
       "    </tr>\n",
       "    <tr>\n",
       "      <th>1</th>\n",
       "      <td>Nao pode publicar</td>\n",
       "      <td>Envio de foto</td>\n",
       "      <td>26</td>\n",
       "    </tr>\n",
       "  </tbody>\n",
       "</table>\n",
       "</div>"
      ],
      "text/plain": [
       "               Action       Category  Total\n",
       "0  Pode publicar foto  Envio de foto    102\n",
       "1   Nao pode publicar  Envio de foto     26"
      ]
     },
     "execution_count": 375,
     "metadata": {},
     "output_type": "execute_result"
    }
   ],
   "source": [
    "df_foto = df.filter((df['Category'] == 'Envio de foto'))\n",
    "\n",
    "df_foto.groupBy('Action','Category') \\\n",
    "    .agg(F.count('Action').alias('Total')) \\\n",
    "    .orderBy('Total', ascending=False) \\\n",
    "    .toPandas()"
   ]
  },
  {
   "cell_type": "code",
   "execution_count": null,
   "metadata": {},
   "outputs": [],
   "source": []
  },
  {
   "cell_type": "code",
   "execution_count": null,
   "metadata": {},
   "outputs": [],
   "source": []
  },
  {
   "cell_type": "code",
   "execution_count": null,
   "metadata": {},
   "outputs": [],
   "source": []
  },
  {
   "cell_type": "code",
   "execution_count": null,
   "metadata": {},
   "outputs": [],
   "source": []
  },
  {
   "cell_type": "code",
   "execution_count": null,
   "metadata": {},
   "outputs": [],
   "source": []
  }
 ],
 "metadata": {
  "kernelspec": {
   "display_name": "Python 3",
   "language": "python",
   "name": "python3"
  },
  "language_info": {
   "codemirror_mode": {
    "name": "ipython",
    "version": 3
   },
   "file_extension": ".py",
   "mimetype": "text/x-python",
   "name": "python",
   "nbconvert_exporter": "python",
   "pygments_lexer": "ipython3",
   "version": "3.6.9"
  }
 },
 "nbformat": 4,
 "nbformat_minor": 4
}
